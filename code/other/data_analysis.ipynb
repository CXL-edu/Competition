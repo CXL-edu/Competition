{
 "cells": [
  {
   "cell_type": "code",
   "execution_count": 46,
   "outputs": [],
   "source": [
    "import sys\n",
    "sys.path.append('E:\\weather\\Lib\\site-packages')\n",
    "# 打印环境变量\n",
    "# print(sys.path)"
   ],
   "metadata": {
    "collapsed": false,
    "ExecuteTime": {
     "end_time": "2023-08-31T08:21:21.172958800Z",
     "start_time": "2023-08-31T08:21:21.150932200Z"
    }
   }
  },
  {
   "cell_type": "code",
   "execution_count": 4,
   "metadata": {
    "collapsed": true,
    "ExecuteTime": {
     "end_time": "2023-08-31T07:36:53.445464300Z",
     "start_time": "2023-08-31T07:33:57.171132200Z"
    }
   },
   "outputs": [
    {
     "name": "stdout",
     "output_type": "stream",
     "text": [
      "(1460, 70, 161, 161)\n",
      "year:2007 mean time:20.991554737091064 std time:15.509047985076904\n",
      "(1464, 70, 161, 161)\n",
      "year:2008 mean time:20.918192148208618 std time:8.187369346618652\n",
      "(1460, 70, 161, 161)\n",
      "year:2009 mean time:16.05082678794861 std time:8.268658876419067\n",
      "(1460, 70, 161, 161)\n",
      "year:2010 mean time:21.70847773551941 std time:28.432596683502197\n",
      "(1460, 70, 161, 161)\n",
      "year:2011 mean time:16.967739582061768 std time:15.771782159805298\n"
     ]
    }
   ],
   "source": [
    "import os\n",
    "import time\n",
    "import xarray as xr\n",
    "import numpy as np\n",
    "import matplotlib.pyplot as plt\n",
    "\n",
    "\n",
    "# 求各年份下数据各channel的均值和方差\n",
    "def get_mean_std():\n",
    "    if not os.path.exists('data_analysis'):\n",
    "        os.makedirs('data_analysis')\n",
    "    data_complete = xr.Dataset()\n",
    "    for year in range(2007,2012):\n",
    "        os.makedirs(f'data_analysis/{year}') if not os.path.exists(f'data_analysis/{year}') else None\n",
    "        data = xr.open_zarr(f'./data/weather_round1_train_{year}', consolidated=True).x\n",
    "        print(data.shape)\n",
    "        t0 = time.time()\n",
    "        data_mean = data.mean(dim=['time'])\n",
    "        t1 = time.time()\n",
    "        data_std = data.std(dim=['time'])\n",
    "        t2 = time.time()\n",
    "        data_mean.name = f'{year}_mean'\n",
    "        data_std.name = f'{year}_std'\n",
    "        data_temp = xr.merge([data_mean, data_std])\n",
    "        data_temp.to_zarr(f'data_analysis/{year}/{year}_mean_std.zarr', mode='w')\n",
    "        data_complete = xr.merge([data_complete, data_temp])\n",
    "        print(f'year:{year} mean time:{t1-t0} std time:{t2-t1}')\n",
    "    data_complete.to_zarr(f'data_analysis/2007_2011_mean_std.zarr', mode='w')\n",
    "    return data_complete\n",
    "\n",
    "# 保存torch.tensor到pt\n",
    "\n",
    "\n",
    "data_complete = get_mean_std()"
   ]
  },
  {
   "cell_type": "code",
   "execution_count": 25,
   "outputs": [
    {
     "name": "stdout",
     "output_type": "stream",
     "text": [
      "<xarray.Dataset>\n",
      "Dimensions:     (channel: 70, lat: 161, lon: 161)\n",
      "Coordinates:\n",
      "  * channel     (channel) <U5 'z50' 'z100' 'z150' 'z200' ... 'v10' 'msl' 'tp'\n",
      "  * lat         (lat) float32 50.0 49.75 49.5 49.25 ... 10.75 10.5 10.25 10.0\n",
      "  * lon         (lon) float32 100.0 100.2 100.5 100.8 ... 139.5 139.8 140.0\n",
      "Data variables:\n",
      "    2007_mean   (channel, lat, lon) float32 -0.7675 -0.7698 ... 0.7268 0.7093\n",
      "    2007_std    (channel, lat, lon) float32 2.041 2.041 2.041 ... 1.256 1.248\n",
      "    2008_mean   (channel, lat, lon) float32 -0.9976 -1.001 ... 0.6535 0.6492\n",
      "    2008_std    (channel, lat, lon) float32 2.245 2.247 2.249 ... 1.199 1.203\n",
      "    2009_mean   (channel, lat, lon) float32 -0.9303 -0.9335 ... 0.7194 0.7089\n",
      "    2009_std    (channel, lat, lon) float32 2.221 2.224 2.226 ... 1.287 1.281\n",
      "    2010_mean   (channel, lat, lon) float32 -0.8981 -0.9019 ... 0.5497 0.5492\n",
      "    2010_std    (channel, lat, lon) float32 2.475 2.478 2.481 ... 1.172 1.168\n",
      "    2011_mean   (channel, lat, lon) float32 -0.9488 -0.9529 ... 0.9085 0.9109\n",
      "    2011_std    (channel, lat, lon) float32 2.178 2.181 2.184 ... 1.321 1.315\n",
      "    total_mean  (channel, lat, lon) float32 -0.9084 -0.9118 ... 0.7116 0.7055\n",
      "    total_std   (channel, lat, lon) float32 2.232 2.234 2.236 ... 1.247 1.243 \n",
      "\n",
      "\n",
      "<xarray.Dataset>\n",
      "Dimensions:     (channel: 70, lat: 161, lon: 161)\n",
      "Coordinates:\n",
      "  * channel     (channel) <U5 'z50' 'z100' 'z150' 'z200' ... 'v10' 'msl' 'tp'\n",
      "  * lat         (lat) float32 50.0 49.75 49.5 49.25 ... 10.75 10.5 10.25 10.0\n",
      "  * lon         (lon) float32 100.0 100.2 100.5 100.8 ... 139.5 139.8 140.0\n",
      "Data variables:\n",
      "    2007_mean   (channel, lat, lon) float32 -0.7675 -0.7698 ... 0.7268 0.7093\n",
      "    2007_std    (channel, lat, lon) float32 2.041 2.041 2.041 ... 1.256 1.248\n",
      "    2008_mean   (channel, lat, lon) float32 -0.9976 -1.001 ... 0.6535 0.6492\n",
      "    2008_std    (channel, lat, lon) float32 2.245 2.247 2.249 ... 1.199 1.203\n",
      "    2009_mean   (channel, lat, lon) float32 -0.9303 -0.9335 ... 0.7194 0.7089\n",
      "    2009_std    (channel, lat, lon) float32 2.221 2.224 2.226 ... 1.287 1.281\n",
      "    2010_mean   (channel, lat, lon) float32 -0.8981 -0.9019 ... 0.5497 0.5492\n",
      "    2010_std    (channel, lat, lon) float32 2.475 2.478 2.481 ... 1.172 1.168\n",
      "    2011_mean   (channel, lat, lon) float32 -0.9488 -0.9529 ... 0.9085 0.9109\n",
      "    2011_std    (channel, lat, lon) float32 2.178 2.181 2.184 ... 1.321 1.315\n",
      "    total_mean  (channel, lat, lon) float32 -0.9084 -0.9118 ... 0.7116 0.7055\n",
      "    total_std   (channel, lat, lon) float32 2.232 2.234 2.236 ... 1.247 1.243\n"
     ]
    },
    {
     "data": {
      "text/plain": "<xarray.backends.zarr.ZarrStore at 0x25cce204eb0>"
     },
     "execution_count": 25,
     "metadata": {},
     "output_type": "execute_result"
    }
   ],
   "source": [
    "print(data_complete, '\\n'*2)\n",
    "\n",
    "data_mean, data_std = [], []\n",
    "for year in range(2007,2012):\n",
    "    data_mean.append(data_complete[f'{year}_mean'])\n",
    "    data_std.append(data_complete[f'{year}_std'])\n",
    "data_mean = xr.concat(data_mean, dim='time')\n",
    "data_mean.name = 'total_mean'\n",
    "data_mean.coords['time'] = [2007,2008,2009,2010,2011]\n",
    "data_std = xr.concat(data_std, dim='time')\n",
    "data_std.name = 'total_std'\n",
    "data_std.coords['time'] = [2007,2008,2009,2010,2011]\n",
    "data_mean = data_mean.mean(dim=['time'])\n",
    "data_std = data_std.mean(dim=['time'])\n",
    "data_complete = xr.merge([data_complete, data_mean, data_std])\n",
    "print(data_complete)\n",
    "data_complete.to_zarr('data_analysis/2007_2011_mean_std.zarr', mode='w')"
   ],
   "metadata": {
    "collapsed": false,
    "ExecuteTime": {
     "end_time": "2023-08-31T07:54:29.841925500Z",
     "start_time": "2023-08-31T07:54:29.561230500Z"
    }
   }
  },
  {
   "cell_type": "code",
   "execution_count": 2,
   "outputs": [
    {
     "ename": "NameError",
     "evalue": "name 'xr' is not defined",
     "output_type": "error",
     "traceback": [
      "\u001B[1;31m---------------------------------------------------------------------------\u001B[0m",
      "\u001B[1;31mNameError\u001B[0m                                 Traceback (most recent call last)",
      "Cell \u001B[1;32mIn[2], line 2\u001B[0m\n\u001B[0;32m      1\u001B[0m \u001B[38;5;28;01mimport\u001B[39;00m \u001B[38;5;21;01mpandas\u001B[39;00m \u001B[38;5;28;01mas\u001B[39;00m \u001B[38;5;21;01mpd\u001B[39;00m\n\u001B[1;32m----> 2\u001B[0m data \u001B[38;5;241m=\u001B[39m \u001B[43mxr\u001B[49m\u001B[38;5;241m.\u001B[39mopen_zarr(\u001B[38;5;124m'\u001B[39m\u001B[38;5;124mdata_analysis/2007_2011_mean_std.zarr\u001B[39m\u001B[38;5;124m'\u001B[39m)\n\u001B[0;32m      4\u001B[0m \u001B[38;5;66;03m# 将数据按经度和维度展开成一维，计算各channel之间的相关性\u001B[39;00m\n\u001B[0;32m      5\u001B[0m data_mean \u001B[38;5;241m=\u001B[39m data[\u001B[38;5;124m'\u001B[39m\u001B[38;5;124mtotal_mean\u001B[39m\u001B[38;5;124m'\u001B[39m]\u001B[38;5;241m.\u001B[39mvalues\u001B[38;5;241m.\u001B[39mtranspose(\u001B[38;5;241m1\u001B[39m,\u001B[38;5;241m2\u001B[39m,\u001B[38;5;241m0\u001B[39m)\u001B[38;5;241m.\u001B[39mreshape(\u001B[38;5;241m-\u001B[39m\u001B[38;5;241m1\u001B[39m,\u001B[38;5;241m70\u001B[39m)\n",
      "\u001B[1;31mNameError\u001B[0m: name 'xr' is not defined"
     ]
    }
   ],
   "source": [
    "import pandas as pd\n",
    "data = xr.open_zarr('data_analysis/2007_2011_mean_std.zarr')\n",
    "\n",
    "# 将数据按经度和维度展开成一维，计算各channel之间的相关性\n",
    "data_mean = data['total_mean'].values.transpose(1,2,0).reshape(-1,70)\n",
    "print(data_mean.shape, '\\n', data.channel.values)\n",
    "data_std = data['total_std'].values.transpose(1,2,0).reshape(-1,70)\n",
    "# 计算相关系数，并给出变量名，保留两位小数\n",
    "corr = pd.DataFrame(np.corrcoef(data_mean, rowvar=False), columns=data.channel.values, index=data.channel.values).round(2)\n",
    "corr_std = pd.DataFrame(np.corrcoef(data_std, rowvar=False), columns=data.channel.values, index=data.channel.values).round(2)\n",
    "print(corr.shape, corr_std.shape)\n",
    "corr.to_csv('data_analysis/2007_2011_mean_corr.csv')\n",
    "corr_std.to_csv('data_analysis/2007_2011_std_corr.csv')\n"
   ],
   "metadata": {
    "collapsed": false,
    "ExecuteTime": {
     "end_time": "2023-08-31T12:53:18.762026700Z",
     "start_time": "2023-08-31T12:53:18.462373800Z"
    }
   }
  },
  {
   "cell_type": "code",
   "execution_count": 17,
   "outputs": [
    {
     "name": "stdout",
     "output_type": "stream",
     "text": [
      "t2m相关性大于0.8的变量有：\n",
      "28\n",
      "Index(['z100', 'z150', 'z200', 'z250', 'z300', 'z400', 'z500', 'z600', 'z700',\n",
      "       't50', 't100', 't150', 't250', 't300', 't400', 't500', 't600', 't700',\n",
      "       't850', 't925', 't1000', 'u50', 'v500', 'r50', 'r100', 'r150', 'r200',\n",
      "       't2m'],\n",
      "      dtype='object') \n",
      "\n",
      "\n",
      "u10相关性大于0.8的变量有：\n",
      "4\n",
      "Index(['u850', 'u925', 'u1000', 'u10'], dtype='object') \n",
      "\n",
      "\n",
      "v10相关性大于0.8的变量有：\n",
      "2\n",
      "Index(['v1000', 'v10'], dtype='object') \n",
      "\n",
      "\n",
      "msl相关性大于0.8的变量有：\n",
      "14\n",
      "Index(['z1000', 'u50', 'u100', 'u150', 'u200', 'u250', 'u300', 'u400', 'r50',\n",
      "       'r100', 'r150', 'r200', 'msl', 'tp'],\n",
      "      dtype='object') \n",
      "\n",
      "\n",
      "tp相关性大于0.8的变量有：\n",
      "16\n",
      "Index(['t100', 't150', 't250', 't300', 't400', 't500', 'u50', 'r50', 'r100',\n",
      "       'r150', 'r200', 'r850', 'r925', 'r1000', 'msl', 'tp'],\n",
      "      dtype='object') \n",
      "\n",
      "\n"
     ]
    }
   ],
   "source": [
    "corr = pd.read_csv('data_analysis/2007_2011_mean_corr.csv', index_col=0)\n",
    "\n",
    "# 找出均值相关性绝对值大于0.9的变量对，并打印相关性值\n",
    "for target in ['t2m', 'u10', 'v10', 'msl', 'tp']:\n",
    "    threshold = 0.8\n",
    "    print(f'{target}相关性大于{threshold}的变量有：')\n",
    "    # print(corr[corr[target].abs()>threshold][target], '\\n')\n",
    "    print(len(corr[corr[target].abs()>threshold][target].index))\n",
    "    print(corr[corr[target].abs()>threshold][target].index, '\\n'*2)"
   ],
   "metadata": {
    "collapsed": false,
    "ExecuteTime": {
     "end_time": "2023-08-31T13:11:47.406873200Z",
     "start_time": "2023-08-31T13:11:47.398579800Z"
    }
   }
  },
  {
   "cell_type": "code",
   "execution_count": null,
   "outputs": [],
   "source": [
    "\"\"\"\n",
    "t2m相关性大于0.92的变量有：\n",
    "t100   -0.93\n",
    "t150   -0.94\n",
    "t300    0.93\n",
    "t400    0.93\n",
    "t2m     1.00\n",
    "\n",
    "u10相关性大于0.8的变量有：\n",
    "u850     0.85\n",
    "u925     0.94\n",
    "u1000    1.00\n",
    "u10      1.00\n",
    "\n",
    "v10相关性大于0.75的变量有：\n",
    "v1000    0.98\n",
    "v10      1.00\n",
    "\n",
    "msl相关性大于0.85的变量有：\n",
    "z1000    0.99\n",
    "u100     0.92\n",
    "u150     0.87\n",
    "r100    -0.88\n",
    "r150    -0.88\n",
    "r200    -0.87\n",
    "msl      1.00\n",
    "\n",
    "tp相关性大于0.85的变量有：\n",
    "u50    -0.87\n",
    "r150    0.88\n",
    "r200    0.87\n",
    "r925    0.89\n",
    "tp      1.00\n",
    "\n",
    "\"\"\""
   ],
   "metadata": {
    "collapsed": false
   }
  },
  {
   "cell_type": "code",
   "execution_count": 75,
   "outputs": [
    {
     "name": "stdout",
     "output_type": "stream",
     "text": [
      "t2m对应的特征变量有：\n",
      "(1460, 5, 161, 161) \n",
      "\n",
      "\n",
      "u10对应的特征变量有：\n",
      "(1460, 4, 161, 161) \n",
      "\n",
      "\n",
      "v10对应的特征变量有：\n",
      "(1460, 2, 161, 161) \n",
      "\n",
      "\n",
      "msl对应的特征变量有：\n",
      "(1460, 7, 161, 161) \n",
      "\n",
      "\n",
      "tp对应的特征变量有：\n",
      "(1460, 5, 161, 161) \n",
      "\n",
      "\n"
     ]
    }
   ],
   "source": [
    "target_features = {'t2m': ['t100', 't150', 't300', 't400', 't2m'],\n",
    "                   'u10': ['u850', 'u925', 'u1000', 'u10'],\n",
    "                   'v10': ['v1000', 'v10'],\n",
    "                   'msl': ['z1000', 'u100', 'u150', 'r100', 'r150', 'r200', 'msl'],\n",
    "                   'tp': ['u50', 'r150', 'r200', 'r925', 'tp']}\n",
    "\n",
    "data = xr.open_zarr('data/weather_round1_train_2007', consolidated=True).x\n",
    "# print(data, '\\n'*2)\n",
    "# 打印数据中目标变量对应的channel的特征变量\n",
    "for target in ['t2m', 'u10', 'v10', 'msl', 'tp']:\n",
    "    print(f'{target}对应的特征变量有：')\n",
    "    print(data.sel(channel=target_features[target]).shape, '\\n'*2)\n",
    "    # print(data[target_features[target]].channel.values, '\\n')\n"
   ],
   "metadata": {
    "collapsed": false,
    "ExecuteTime": {
     "end_time": "2023-08-31T11:32:08.175997300Z",
     "start_time": "2023-08-31T11:32:08.166977100Z"
    }
   }
  }
 ],
 "metadata": {
  "kernelspec": {
   "display_name": "Python 3",
   "language": "python",
   "name": "python3"
  },
  "language_info": {
   "codemirror_mode": {
    "name": "ipython",
    "version": 2
   },
   "file_extension": ".py",
   "mimetype": "text/x-python",
   "name": "python",
   "nbconvert_exporter": "python",
   "pygments_lexer": "ipython2",
   "version": "2.7.6"
  }
 },
 "nbformat": 4,
 "nbformat_minor": 0
}
